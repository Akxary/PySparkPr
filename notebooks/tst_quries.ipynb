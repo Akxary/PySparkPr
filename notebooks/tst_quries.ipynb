{
 "cells": [
  {
   "cell_type": "code",
   "execution_count": 4,
   "id": "initial_id",
   "metadata": {
    "ExecuteTime": {
     "end_time": "2023-11-02T20:36:56.779109900Z",
     "start_time": "2023-11-02T20:36:56.564701700Z"
    }
   },
   "outputs": [],
   "source": [
    "from pyspark.sql import SparkSession\n",
    "from datetime import datetime, date"
   ]
  },
  {
   "cell_type": "code",
   "execution_count": 3,
   "id": "26ed1c94-f723-4f59-a893-8cf19fa378dd",
   "metadata": {},
   "outputs": [],
   "source": [
    "spark = SparkSession.builder.getOrCreate()"
   ]
  },
  {
   "cell_type": "code",
   "execution_count": 9,
   "id": "35ee0bf1-094c-4e7f-b675-8763ffb5cfcd",
   "metadata": {},
   "outputs": [],
   "source": [
    "t_ = '\\t'\n",
    "n_ = '\\n'"
   ]
  },
  {
   "cell_type": "code",
   "execution_count": 6,
   "id": "70bbb679-71d8-4f6b-b543-4e1784a85041",
   "metadata": {},
   "outputs": [],
   "source": [
    "sp_df = spark.sql(\"\"\"\n",
    "select * \n",
    "from (\n",
    "select 1 as a1, 2 as b1, 1 as a2, 3 as b2 \n",
    "union all\n",
    "select 1 as a1, 2 as b1, 1 as a2, 3 as b2 \n",
    "union all\n",
    "select 1 as a1, 2 as b1, 1 as a2, 3 as b2 \n",
    "union all\n",
    "select 1 as a1, 2 as b1, 1 as a2, 3 as b2 \n",
    ") sq\n",
    "\"\"\")"
   ]
  },
  {
   "cell_type": "code",
   "execution_count": 20,
   "id": "3aa21d94-b5cd-46f3-b5a5-ba28b8d3291b",
   "metadata": {},
   "outputs": [],
   "source": [
    "sp_df.createTempView('temp_view')"
   ]
  },
  {
   "cell_type": "code",
   "execution_count": 21,
   "id": "2d882294-72a8-4290-abc0-bf8b54339ded",
   "metadata": {},
   "outputs": [],
   "source": [
    "cols = sp_df.columns\n",
    "numCols = len(cols)//2\n",
    "tblName = 'temp_view'"
   ]
  },
  {
   "cell_type": "code",
   "execution_count": 22,
   "id": "bbec5bb0-1076-4d30-b54b-127e3bc1677d",
   "metadata": {},
   "outputs": [
    {
     "name": "stdout",
     "output_type": "stream",
     "text": [
      "\n",
      "select \n",
      "\tcount(case when a1 <=> a2 then 1 end) as `cnt_a1`\n",
      ",\tcount(case when b1 <=> b2 then 1 end) as `cnt_b1`\n",
      "from temp_view\n",
      "\n"
     ]
    }
   ],
   "source": [
    "_query = f\"\"\"\n",
    "select \n",
    "\t{f\"{n_},{t_}\".join(map(lambda i: f\"count(case when {cols[i]} <=> {cols[i+numCols]} then 1 end) as `cnt_{cols[i]}`\", range(numCols)))}\n",
    "from {tblName}\n",
    "\"\"\"\n",
    "print(_query)"
   ]
  },
  {
   "cell_type": "code",
   "execution_count": 23,
   "id": "125f475b-a8ee-4180-853e-23280590409a",
   "metadata": {},
   "outputs": [
    {
     "name": "stdout",
     "output_type": "stream",
     "text": [
      "+------+------+\n",
      "|cnt_a1|cnt_b1|\n",
      "+------+------+\n",
      "|4     |0     |\n",
      "+------+------+\n",
      "\n"
     ]
    }
   ],
   "source": [
    "spark.sql(_query).show(100, False)"
   ]
  },
  {
   "cell_type": "code",
   "execution_count": 27,
   "id": "e17e72de-25ca-4e13-be33-b061001b2077",
   "metadata": {},
   "outputs": [],
   "source": [
    "cols2 = sp_df.columns\n",
    "numCols2 = len(cols2)//2\n",
    "tblName2 = 'temp_view'"
   ]
  },
  {
   "cell_type": "code",
   "execution_count": 26,
   "id": "77784af2-4770-4ea4-b04d-cf96cd38e7ac",
   "metadata": {},
   "outputs": [
    {
     "name": "stdout",
     "output_type": "stream",
     "text": [
      "\n",
      "select count(*) as cnt\n",
      ",\tcount(case when a1 is NULL then 1 end) as `null_a1`\n",
      ",\tcount(case when b1 is NULL then 1 end) as `null_b1`\n",
      ",\tcount(case when a2 is NULL then 1 end) as `null_a2`\n",
      ",\tcount(case when b2 is NULL then 1 end) as `null_b2`\n",
      ",\tcount(distinct a1) as `diff_a1`\n",
      ",\tcount(distinct b1) as `diff_b1`\n",
      ",\tcount(distinct a2) as `diff_a2`\n",
      ",\tcount(distinct b2) as `diff_b2`\n",
      "from temp_view\n",
      "\n"
     ]
    }
   ],
   "source": [
    "_query2 = f\"\"\"\n",
    "select count(*) as cnt\n",
    ",\t{f\"{n_},{t_}\".join(map(lambda col: f\"count(case when {col} is NULL then 1 end) as `null_{col}`\", cols2))}\n",
    ",\t{f\"{n_},{t_}\".join(map(lambda col: f\"count(distinct {col}) as `diff_{col}`\", cols2))}\n",
    "from {tblName2}\n",
    "\"\"\"\n",
    "print(_query2)"
   ]
  },
  {
   "cell_type": "code",
   "execution_count": 29,
   "id": "6558c513-9d67-4b4b-91d5-925950183946",
   "metadata": {},
   "outputs": [],
   "source": [
    "df2 = spark.sql(_query2)"
   ]
  },
  {
   "cell_type": "code",
   "execution_count": 35,
   "id": "f47f62c2-3376-47b2-86d3-3ae9b70ca1d4",
   "metadata": {},
   "outputs": [],
   "source": [
    "dict_res = df2.collect()[0].asDict()"
   ]
  },
  {
   "cell_type": "code",
   "execution_count": 51,
   "id": "f3ea8e13-9096-4875-bf63-2db945bf443e",
   "metadata": {},
   "outputs": [],
   "source": [
    "# альтернативный способ\n",
    "df_res = spark.sql(f\"\"\"\n",
    "select inline (\n",
    "array(\n",
    "\t{f\"{n_},{t_}\".join(map(lambda col: f\"struct('{col}', {dict_res['cnt']}, {dict_res[f'null_{col}']}, {dict_res[f'diff_{col}']})\", cols2))}\n",
    ")\n",
    ") as (`{'`, `'.join(['name', 'cnt', 'null', 'diff'])}`)\n",
    "\"\"\")"
   ]
  },
  {
   "cell_type": "code",
   "execution_count": 46,
   "id": "80655a33-73c5-4339-9e32-2bce8909155e",
   "metadata": {},
   "outputs": [],
   "source": [
    "# почему-то не получилось\n",
    "df_res = spark.createDataFrame([\n",
    "    [col, dict_res['cnt'], dict_res[f'null_{col}'], dict_res[f'diff_{col}']] for col in cols2\n",
    "], ['name', 'cnt', 'null', 'diff'])\n",
    "#schema='name string, cnt long, null long, diff long')"
   ]
  },
  {
   "cell_type": "code",
   "execution_count": 53,
   "id": "b50df50e-337d-4c12-9d6c-7adaa9505e8b",
   "metadata": {},
   "outputs": [
    {
     "name": "stdout",
     "output_type": "stream",
     "text": [
      "+----+---+----+----+\n",
      "|name|cnt|null|diff|\n",
      "+----+---+----+----+\n",
      "|  a1|  4|   0|   1|\n",
      "|  b1|  4|   0|   1|\n",
      "|  a2|  4|   0|   1|\n",
      "|  b2|  4|   0|   1|\n",
      "+----+---+----+----+\n",
      "\n"
     ]
    }
   ],
   "source": [
    "df_res.show()"
   ]
  }
 ],
 "metadata": {
  "kernelspec": {
   "display_name": "Python 3 (ipykernel)",
   "language": "python",
   "name": "python3"
  },
  "language_info": {
   "codemirror_mode": {
    "name": "ipython",
    "version": 3
   },
   "file_extension": ".py",
   "mimetype": "text/x-python",
   "name": "python",
   "nbconvert_exporter": "python",
   "pygments_lexer": "ipython3",
   "version": "3.11.0"
  }
 },
 "nbformat": 4,
 "nbformat_minor": 5
}
